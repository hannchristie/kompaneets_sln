{
 "cells": [
  {
   "cell_type": "markdown",
   "id": "410421fd-9895-492c-9970-aab825d91c31",
   "metadata": {},
   "source": [
    "# Kompaneets Model\n"
   ]
  },
  {
   "cell_type": "markdown",
   "id": "441a63e4-c6c1-4df0-804a-78c2dabc5441",
   "metadata": {},
   "source": [
    "The Kompaneets model assumes that the energy source is located at z = 0 in an exponential atmospehere. The model assumes that tge internal pressure of the bubble dominates any external pressure. "
   ]
  },
  {
   "cell_type": "code",
   "execution_count": 24,
   "id": "4f299735-f7db-4812-9eb6-33388a0ae13c",
   "metadata": {
    "tags": []
   },
   "outputs": [],
   "source": [
    "# import necessary modules/libraries\n",
    "import numpy as np\n",
    "import scipy.integrate as integrate\n",
    "import scipy.special as special \n",
    "import math as m"
   ]
  },
  {
   "cell_type": "code",
   "execution_count": 25,
   "id": "0da34536-c5db-4d5a-9e32-1e19e50ba3d8",
   "metadata": {
    "tags": []
   },
   "outputs": [
    {
     "name": "stdout",
     "output_type": "stream",
     "text": [
      "2.3042304230423043\n"
     ]
    }
   ],
   "source": [
    "# define constants\n",
    "gamma = 5./3.\n",
    "\n",
    "#set initial values for the bubble from spherical similarity solution\n",
    "t0 = 3.38e-2\n",
    "y0 = 0.102\n",
    "#omega = 4.189e-3\n",
    "omega = 4.444e-3\n",
    "eth = 1.536e-2\n",
    "\n",
    "#set initial stpes\n",
    "t = t0\n",
    "y = y0\n",
    "\n",
    "# set step size\n",
    "dy = 0.0001\n",
    "\n",
    "#set stop condition\n",
    "## HC- check stop condition with SB\n",
    "yfinal = 1.99\n",
    "\n",
    "#p_init = 4./3.*np.pi*y**3\n",
    "p_init = (gamma-1.)*eth/omega\n",
    "print(p_init)"
   ]
  },
  {
   "cell_type": "code",
   "execution_count": 26,
   "id": "83cbabbf-b908-46ed-a7ea-5c07d9a45d2d",
   "metadata": {
    "tags": []
   },
   "outputs": [],
   "source": [
    "# define function to solve for radius as a function of z and y\n",
    "\n",
    "def radius(z,y):\n",
    "    radius = 2*np.arccos(0.5*np.exp(0.5*z)*(1-0.25*y**2 + np.exp(-z)))\n",
    "    return radius"
   ]
  },
  {
   "cell_type": "code",
   "execution_count": 27,
   "id": "f0940c0b-41e8-468e-9d7b-a5dc49fb0224",
   "metadata": {
    "tags": []
   },
   "outputs": [],
   "source": [
    "# define fucntion to solve for volume as a function of y\n",
    "\n",
    "def volume(y):\n",
    "    #find end points of integration\n",
    "    z1 = -2*m.log(1-0.5*y)\n",
    "    z2 = -2*m.log(1+0.5*y)\n",
    "    step_num = 100\n",
    "    # integrate over all cross sections\n",
    "    #for i in range(0, step_num):\n",
    "    dz = (z1-z2)/(step_num)\n",
    "    #print(dz)\n",
    "        #return dz\n",
    "    volume = 0.\n",
    "    n = step_num\n",
    "    for n in range(1, step_num):\n",
    "        zn = z2 + (2*n-1)*(0.5*dz)\n",
    "        volume  = volume + (radius(zn, y))**2\n",
    "    volume = volume*np.pi*dz\n",
    "    return volume\n",
    "   \n",
    "    "
   ]
  },
  {
   "cell_type": "code",
   "execution_count": 28,
   "id": "6b05888f-55a4-409e-978a-6d130c4b5f28",
   "metadata": {
    "tags": []
   },
   "outputs": [],
   "source": [
    "# open csv file to write/append results to\n",
    "import csv\n",
    "headers = ['y' , 't' , 'omega', 'eth', 'pressure'] # set column headers\n",
    "initial_vals = [y0, t0, omega, eth, p_init]\n",
    "with open('komp_results.csv', 'a') as f:\n",
    "    writer = csv.writer(f)\n",
    "    writer.writerow(headers)\n",
    "    writer.writerow(initial_vals)\n",
    "        \n",
    "#y,t,y0,t0,dy,dt,omega,omeganew,eth,ethnew,pressure"
   ]
  },
  {
   "cell_type": "code",
   "execution_count": 29,
   "id": "b9e64a21-b6ba-4bb7-bb79-9cc5646147a7",
   "metadata": {},
   "outputs": [],
   "source": [
    "## create arrays\n",
    "\n",
    "eth_results = []\n",
    "pressure_res = []\n",
    "t_res = []"
   ]
  },
  {
   "cell_type": "code",
   "execution_count": 30,
   "id": "0394c53d-f44d-4de8-a1f2-f42a2fc499cc",
   "metadata": {
    "tags": []
   },
   "outputs": [],
   "source": [
    "while (y <= yfinal):\n",
    "    # find dt using dy and constants\n",
    "    dt = dy /m.sqrt(0.5*(gamma**2-1.)*eth/omega)\n",
    "\n",
    "    # in the case of a radiative shell, use the following expression\n",
    "    # dt = dy/ sqrt((gamma-1)*eth/omega)\n",
    "\n",
    "    # update y and t values\n",
    "    y = y+dy\n",
    "    t = t+dt\n",
    "\n",
    "    # update voume\n",
    "    omega_new = volume(y)\n",
    "\n",
    "    # get new energy from old pressure\n",
    "    pressure = (gamma-1.)*eth/omega\n",
    "    eth_new = eth + dt - pressure*(omega_new-omega)\n",
    "    \n",
    "    # put result values in a list\n",
    "    up_vals = [y, t, omega_new, eth_new, pressure]\n",
    "    with open('komp_results_v2.csv', 'a') as f:\n",
    "        writer = csv.writer(f)\n",
    "        writer.writerow(up_vals)\n",
    "        \n",
    "    # updated old values to new values\n",
    "    eth = eth_new\n",
    "    omega = omega_new\n",
    "    \n",
    "    eth_results.append(eth)\n",
    "    pressure_res.append(pressure)\n",
    "    t_res.append(t)\n",
    "#end loop when end criteria is met"
   ]
  },
  {
   "cell_type": "code",
   "execution_count": 31,
   "id": "c03d71af-cf1b-4f23-81f8-67dc6696fb43",
   "metadata": {
    "tags": []
   },
   "outputs": [
    {
     "data": {
      "text/plain": [
       "Text(0.5, 1.0, 'E-thermal')"
      ]
     },
     "execution_count": 31,
     "metadata": {},
     "output_type": "execute_result"
    },
    {
     "data": {
      "image/png": "[encoded data removed]",
      "text/plain": [
       "<Figure size 640x480 with 1 Axes>"
      ]
     },
     "metadata": {},
     "output_type": "display_data"
    }
   ],
   "source": [
    "import matplotlib.pyplot as plt\n",
    "\n",
    "plt.plot(t_res, eth_results)\n",
    "plt.xscale('log')\n",
    "plt.yscale('log')\n",
    "plt.title(\"E-thermal\")"
   ]
  },
  {
   "cell_type": "code",
   "execution_count": 33,
   "id": "dc6c303f-dc9d-4728-af63-6e2a6e0d6754",
   "metadata": {
    "tags": []
   },
   "outputs": [
    {
     "data": {
      "text/plain": [
       "Text(0.5, 1.0, 'Pressure')"
      ]
     },
     "execution_count": 33,
     "metadata": {},
     "output_type": "execute_result"
    },
    {
     "data": {
      "image/png": "[encoded data removed]",
      "text/plain": [
       "<Figure size 640x480 with 1 Axes>"
      ]
     },
     "metadata": {},
     "output_type": "display_data"
    }
   ],
   "source": [
    "plt.plot(t_res, pressure_res)\n",
    "plt.xscale('log')\n",
    "plt.yscale('log')\n",
    "plt.title(\"Pressure\")"
   ]
  },
  {
   "cell_type": "code",
   "execution_count": null,
   "id": "6eff9daf-86e8-4d82-8637-e90952120491",
   "metadata": {
    "tags": []
   },
   "outputs": [],
   "source": []
  },
  {
   "cell_type": "code",
   "execution_count": null,
   "id": "6fe9b442-aba4-4db1-8bb2-87ac41b9f1a2",
   "metadata": {
    "tags": []
   },
   "outputs": [],
   "source": []
  },
  {
   "cell_type": "code",
   "execution_count": null,
   "id": "928a7aab-bfe0-495b-a3e6-367860ef3a07",
   "metadata": {},
   "outputs": [],
   "source": []
  }
 ],
 "metadata": {
  "kernelspec": {
   "display_name": "Python 3 (ipykernel)",
   "language": "python",
   "name": "python3"
  },
  "language_info": {
   "codemirror_mode": {
    "name": "ipython",
    "version": 3
   },
   "file_extension": ".py",
   "mimetype": "text/x-python",
   "name": "python",
   "nbconvert_exporter": "python",
   "pygments_lexer": "ipython3",
   "version": "3.11.3"
  }
 },
 "nbformat": 4,
 "nbformat_minor": 5
}
